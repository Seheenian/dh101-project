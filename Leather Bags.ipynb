{
 "cells": [
  {
   "cell_type": "markdown",
   "metadata": {},
   "source": [
    "# Popular Keywords in S.Korean Leather Bag Market\n",
    "\n",
    "Used Facebook or Instagram for advertisement information (because some sites only use one of the two) - only collected leather bag related posts April ~Present\n",
    "\n",
    "3 Websites analyzed: \n",
    "1. Mutemuse\n",
    "2. Mad Goat\n",
    "3. Avam"
   ]
  },
  {
   "cell_type": "code",
   "execution_count": 1,
   "metadata": {
    "scrolled": true
   },
   "outputs": [],
   "source": [
    "import pandas as pd"
   ]
  },
  {
   "cell_type": "code",
   "execution_count": 2,
   "metadata": {},
   "outputs": [],
   "source": [
    "import matplotlib\n",
    "%matplotlib inline\n",
    "import matplotlib.pyplot as plots\n",
    "plots.style.use('grayscale')"
   ]
  },
  {
   "cell_type": "code",
   "execution_count": 3,
   "metadata": {},
   "outputs": [
    {
     "data": {
      "text/plain": [
       "'!\"#$%&\\'()*+,-./:;<=>?@[\\\\]^_`{|}~'"
      ]
     },
     "execution_count": 3,
     "metadata": {},
     "output_type": "execute_result"
    }
   ],
   "source": [
    "from string import punctuation\n",
    "punctuation"
   ]
  },
  {
   "cell_type": "code",
   "execution_count": 5,
   "metadata": {},
   "outputs": [
    {
     "name": "stderr",
     "output_type": "stream",
     "text": [
      "[nltk_data] Downloading package punkt to\n",
      "[nltk_data]     /Users/s2park2018/nltk_data...\n",
      "[nltk_data]   Package punkt is already up-to-date!\n",
      "[nltk_data] Downloading package averaged_perceptron_tagger to\n",
      "[nltk_data]     /Users/s2park2018/nltk_data...\n",
      "[nltk_data]   Package averaged_perceptron_tagger is already up-to-\n",
      "[nltk_data]       date!\n",
      "[nltk_data] Downloading package stopwords to\n",
      "[nltk_data]     /Users/s2park2018/nltk_data...\n",
      "[nltk_data]   Package stopwords is already up-to-date!\n"
     ]
    }
   ],
   "source": [
    "import nltk\n",
    "from nltk.tokenize import word_tokenize\n",
    "from nltk.tokenize import sent_tokenize\n",
    "from collections import Counter\n",
    "from nltk.corpus import stopwords\n",
    "from nltk import pos_tag\n",
    "nltk.download(\"punkt\")\n",
    "nltk.download(\"averaged_perceptron_tagger\")\n",
    "nltk.download(\"stopwords\")\n",
    "stop = stopwords.words(\"english\")"
   ]
  },
  {
   "cell_type": "code",
   "execution_count": 54,
   "metadata": {},
   "outputs": [],
   "source": [
    "# for Stemming & Lemmatizing\n",
    "#!pip install spacy\n",
    "#!python -m spacy download en_core_web_lg\n",
    "import spacy "
   ]
  },
  {
   "cell_type": "markdown",
   "metadata": {},
   "source": [
    "## Brand Theme Identification (About Us Page Analysis)\n",
    "Brands make explicit their theme or identity usually in their 'About Us' page. "
   ]
  },
  {
   "cell_type": "markdown",
   "metadata": {},
   "source": [
    "## Mutemuse: About Us"
   ]
  },
  {
   "cell_type": "code",
   "execution_count": 7,
   "metadata": {
    "scrolled": true
   },
   "outputs": [],
   "source": [
    "# Mutemuse About Us Page\n",
    "MM_about = \"Mutemuse captures inspiration from the corners of everyday life. It melts quietly everywhere, yet keeps attracting attention. Mutemuse imagines another inspiration that the object can give you.\""
   ]
  },
  {
   "cell_type": "code",
   "execution_count": 8,
   "metadata": {},
   "outputs": [
    {
     "name": "stdout",
     "output_type": "stream",
     "text": [
      "mutemuse captures inspiration from the corners of everyday life. it melts quietly everywhere, yet keeps attracting attention. mutemuse imagines another inspiration that the object can give you.\n"
     ]
    }
   ],
   "source": [
    "# Changing to lower case\n",
    "MM_lower = MM_about.lower()\n",
    "print(MM_lower)"
   ]
  },
  {
   "cell_type": "code",
   "execution_count": 20,
   "metadata": {},
   "outputs": [
    {
     "name": "stdout",
     "output_type": "stream",
     "text": [
      "mutemuse captures inspiration from the corners of everyday life it melts quietly everywhere yet keeps attracting attention mutemuse imagines another inspiration that the object can give you\n"
     ]
    }
   ],
   "source": [
    "# Removing punctuation\n",
    "for char in punctuation: \n",
    "    MM_lower = MM_lower.replace(char, \"\")\n",
    "print(MM_lower)"
   ]
  },
  {
   "cell_type": "code",
   "execution_count": 21,
   "metadata": {
    "scrolled": false
   },
   "outputs": [
    {
     "name": "stdout",
     "output_type": "stream",
     "text": [
      "['mutemuse', 'captures', 'inspiration', 'from', 'the', 'corners', 'of', 'everyday', 'life', 'it', 'melts', 'quietly', 'everywhere', 'yet', 'keeps', 'attracting', 'attention', 'mutemuse', 'imagines', 'another', 'inspiration', 'that', 'the', 'object', 'can', 'give', 'you']\n"
     ]
    }
   ],
   "source": [
    "# Tokenizing\n",
    "MM_tokens = word_tokenize(MM_lower)\n",
    "print(MM_tokens)"
   ]
  },
  {
   "cell_type": "code",
   "execution_count": 22,
   "metadata": {},
   "outputs": [],
   "source": [
    "# Removing Stopwords\n",
    "MM_stop = stopwords.words(\"english\")"
   ]
  },
  {
   "cell_type": "code",
   "execution_count": 23,
   "metadata": {},
   "outputs": [
    {
     "name": "stdout",
     "output_type": "stream",
     "text": [
      "['mutemuse', 'captures', 'inspiration', 'corners', 'everyday', 'life', 'melts', 'quietly', 'everywhere', 'yet', 'keeps', 'attracting', 'attention', 'mutemuse', 'imagines', 'another', 'inspiration', 'object', 'give']\n"
     ]
    }
   ],
   "source": [
    "MM_stop = [word for word in MM_tokens if word not in stopwords.words(\"english\")]\n",
    "print(MM_stop)"
   ]
  },
  {
   "cell_type": "code",
   "execution_count": 89,
   "metadata": {
    "scrolled": true
   },
   "outputs": [
    {
     "name": "stdout",
     "output_type": "stream",
     "text": [
      "['mutemuse', 'capture', 'inspiration', 'corner', 'everyday', 'life', 'melt', 'quietly', 'everywhere', 'yet', 'keep', 'attract', 'attention', 'mutemuse', 'imagine', 'another', 'inspiration', 'object', 'give']\n"
     ]
    }
   ],
   "source": [
    "#Lemmatizing\n",
    "nlp = spacy.load(\"en_core_web_lg\")\n",
    "def lemmatize(MM_stop): \n",
    "    MM_words = \" \".join(MM_stop)\n",
    "    MM_doc = nlp(MM_words)\n",
    "    return [MM_stop.lemma_ for MM_stop in MM_doc]\n",
    "MM_lemmas = lemmatize(MM_stop)\n",
    "print(MM_lemmas)"
   ]
  },
  {
   "cell_type": "code",
   "execution_count": 25,
   "metadata": {
    "scrolled": true
   },
   "outputs": [
    {
     "data": {
      "text/plain": [
       "[('mutemuse', 2),\n",
       " ('inspiration', 2),\n",
       " ('capture', 1),\n",
       " ('corner', 1),\n",
       " ('everyday', 1),\n",
       " ('life', 1),\n",
       " ('melt', 1)]"
      ]
     },
     "execution_count": 25,
     "metadata": {},
     "output_type": "execute_result"
    }
   ],
   "source": [
    "# Counting word frequency\n",
    "from collections import Counter\n",
    "MM_freq = Counter(MM_lemmas)\n",
    "MM_freq.most_common(7)"
   ]
  },
  {
   "cell_type": "markdown",
   "metadata": {},
   "source": [
    "### Mutemuse: About Us Analysis - 1\n",
    "When I counted word frequency, most likely because the introduction is too short, I could not draw meaningful data. \n",
    "So instead, I decided to look into adjectives they use in their concise description. "
   ]
  },
  {
   "cell_type": "code",
   "execution_count": 96,
   "metadata": {},
   "outputs": [],
   "source": [
    "nlp = spacy.load(\"en_core_web_lg\")\n",
    "MM_doc = nlp(\" \".join(MM_stop))"
   ]
  },
  {
   "cell_type": "code",
   "execution_count": 102,
   "metadata": {},
   "outputs": [
    {
     "name": "stdout",
     "output_type": "stream",
     "text": [
      "Empty DataFrame\n",
      "Columns: [text, lemma, pos, tag, dep, shape, is_alpha, is_stop]\n",
      "Index: []\n"
     ]
    }
   ],
   "source": [
    "MM_doc = []\n",
    "for MM_stop in MM_doc: \n",
    "    MM_d.append((MM_stop.text, MM_stop.lemma_, \n",
    "                 MM_stop.pos_, MM_stop.tag_, MM_stop.dep_, \n",
    "                MM_stop.shape_, MM_stop.is_alpha, MM_stop.is_stop))\n",
    "MM_out = pd.DataFrame(MM_doc, columns = (\"text\", \"lemma\", \"pos\", \"tag\", \"dep\", \"shape\", \"is_alpha\", \"is_stop\"))\n",
    "print(MM_out)"
   ]
  },
  {
   "cell_type": "code",
   "execution_count": null,
   "metadata": {},
   "outputs": [],
   "source": []
  },
  {
   "cell_type": "code",
   "execution_count": null,
   "metadata": {},
   "outputs": [],
   "source": [
    "\n"
   ]
  },
  {
   "cell_type": "markdown",
   "metadata": {},
   "source": [
    "## Mad Goat: About Us"
   ]
  },
  {
   "cell_type": "code",
   "execution_count": 36,
   "metadata": {},
   "outputs": [],
   "source": [
    "# Mad Goat About Us Page\n",
    "MG_about = \"Cashmere and goat skin are loved by many due to their premium material. However, there are many products that are created with inappropriate raw material and are not reasonable. MADGOAT's goal is to be brand that establishes the standard on the quality of cachmere and goat skin. To do so, MADGOAT carefully selects the finest material and uses optimal leather and thread to produce the best goods. Restrained Gloamour. MADGOAT creates daily items with restrained glamour that could be your statement piece. Premium Gift. MADGOAT can deliver its own unique warmth and softness to beloved ones. Appropriate Raw Material. MADGOAT carefully selects distinctively beautiful colors and only uses self-dyed threads and leather. \""
   ]
  },
  {
   "cell_type": "code",
   "execution_count": 37,
   "metadata": {
    "scrolled": true
   },
   "outputs": [
    {
     "name": "stdout",
     "output_type": "stream",
     "text": [
      "cashmere and goat skin are loved by many due to their premium material. however, there are many products that are created with inappropriate raw material and are not reasonable. madgoat's goal is to be brand that establishes the standard on the quality of cachmere and goat skin. to do so, madgoat carefully selects the finest material and uses optimal leather and thread to produce the best goods. restrained gloamour. madgoat creates daily items with restrained glamour that could be your statement piece. premium gift. madgoat can deliver its own unique warmth and softness to beloved ones. appropriate raw material. madgoat carefully selects distinctively beautiful colors and only uses self-dyed threads and leather. \n"
     ]
    }
   ],
   "source": [
    "# Changing to lower case\n",
    "MG_lower = MG_about.lower()\n",
    "print(MG_lower)"
   ]
  },
  {
   "cell_type": "code",
   "execution_count": 38,
   "metadata": {},
   "outputs": [
    {
     "name": "stdout",
     "output_type": "stream",
     "text": [
      "cashmere and goat skin are loved by many due to their premium material however there are many products that are created with inappropriate raw material and are not reasonable madgoats goal is to be brand that establishes the standard on the quality of cachmere and goat skin to do so madgoat carefully selects the finest material and uses optimal leather and thread to produce the best goods restrained gloamour madgoat creates daily items with restrained glamour that could be your statement piece premium gift madgoat can deliver its own unique warmth and softness to beloved ones appropriate raw material madgoat carefully selects distinctively beautiful colors and only uses selfdyed threads and leather \n"
     ]
    }
   ],
   "source": [
    "# Removing punctuation\n",
    "for char in punctuation: \n",
    "    MG_lower = MG_lower.replace(char, \"\")\n",
    "print(MG_lower)"
   ]
  },
  {
   "cell_type": "code",
   "execution_count": 46,
   "metadata": {},
   "outputs": [
    {
     "name": "stdout",
     "output_type": "stream",
     "text": [
      "['cashmere', 'and', 'goat', 'skin', 'are', 'loved', 'by', 'many', 'due', 'to', 'their', 'premium', 'material', 'however', 'there', 'are', 'many', 'products', 'that', 'are', 'created', 'with', 'inappropriate', 'raw', 'material', 'and', 'are', 'not', 'reasonable', 'madgoats', 'goal', 'is', 'to', 'be', 'brand', 'that', 'establishes', 'the', 'standard', 'on', 'the', 'quality', 'of', 'cachmere', 'and', 'goat', 'skin', 'to', 'do', 'so', 'madgoat', 'carefully', 'selects', 'the', 'finest', 'material', 'and', 'uses', 'optimal', 'leather', 'and', 'thread', 'to', 'produce', 'the', 'best', 'goods', 'restrained', 'gloamour', 'madgoat', 'creates', 'daily', 'items', 'with', 'restrained', 'glamour', 'that', 'could', 'be', 'your', 'statement', 'piece', 'premium', 'gift', 'madgoat', 'can', 'deliver', 'its', 'own', 'unique', 'warmth', 'and', 'softness', 'to', 'beloved', 'ones', 'appropriate', 'raw', 'material', 'madgoat', 'carefully', 'selects', 'distinctively', 'beautiful', 'colors', 'and', 'only', 'uses', 'selfdyed', 'threads', 'and', 'leather']\n"
     ]
    }
   ],
   "source": [
    "# Tokenizing\n",
    "MG_tokens = word_tokenize(MG_lower)\n",
    "print(MG_tokens)"
   ]
  },
  {
   "cell_type": "code",
   "execution_count": 47,
   "metadata": {},
   "outputs": [],
   "source": [
    "# Removing Stopwords\n",
    "MG_stop = stopwords.words(\"english\")"
   ]
  },
  {
   "cell_type": "code",
   "execution_count": 49,
   "metadata": {},
   "outputs": [
    {
     "name": "stdout",
     "output_type": "stream",
     "text": [
      "['cashmere', 'goat', 'skin', 'loved', 'many', 'due', 'premium', 'material', 'however', 'many', 'products', 'created', 'inappropriate', 'raw', 'material', 'reasonable', 'madgoats', 'goal', 'brand', 'establishes', 'standard', 'quality', 'cachmere', 'goat', 'skin', 'madgoat', 'carefully', 'selects', 'finest', 'material', 'uses', 'optimal', 'leather', 'thread', 'produce', 'best', 'goods', 'restrained', 'gloamour', 'madgoat', 'creates', 'daily', 'items', 'restrained', 'glamour', 'could', 'statement', 'piece', 'premium', 'gift', 'madgoat', 'deliver', 'unique', 'warmth', 'softness', 'beloved', 'ones', 'appropriate', 'raw', 'material', 'madgoat', 'carefully', 'selects', 'distinctively', 'beautiful', 'colors', 'uses', 'selfdyed', 'threads', 'leather']\n"
     ]
    }
   ],
   "source": [
    "MG_stop = [word for word in MG_tokens if word not in stopwords.words(\"english\")]\n",
    "print(MG_stop)"
   ]
  },
  {
   "cell_type": "code",
   "execution_count": 50,
   "metadata": {
    "scrolled": true
   },
   "outputs": [
    {
     "name": "stdout",
     "output_type": "stream",
     "text": [
      "['cashmere', 'goat', 'skin', 'love', 'many', 'due', 'premium', 'material', 'however', 'many', 'product', 'create', 'inappropriate', 'raw', 'material', 'reasonable', 'madgoat', 'goal', 'brand', 'establish', 'standard', 'quality', 'cachmere', 'goat', 'skin', 'madgoat', 'carefully', 'select', 'fine', 'material', 'use', 'optimal', 'leather', 'thread', 'produce', 'good', 'good', 'restrain', 'gloamour', 'madgoat', 'create', 'daily', 'item', 'restrain', 'glamour', 'could', 'statement', 'piece', 'premium', 'gift', 'madgoat', 'deliver', 'unique', 'warmth', 'softness', 'beloved', 'one', 'appropriate', 'raw', 'material', 'madgoat', 'carefully', 'select', 'distinctively', 'beautiful', 'color', 'use', 'selfdyed', 'thread', 'leather']\n"
     ]
    }
   ],
   "source": [
    "#Lemmatizing\n",
    "nlp = spacy.load(\"en_core_web_lg\")\n",
    "def lemmatize(MG_stop): \n",
    "    MG_words = \" \".join(MG_stop)\n",
    "    MG_doc = nlp(MG_words)\n",
    "    return [MG_stop.lemma_ for MG_stop in MG_doc]\n",
    "MG_lemmas = lemmatize(MG_stop)\n",
    "print(MG_lemmas)"
   ]
  },
  {
   "cell_type": "code",
   "execution_count": 58,
   "metadata": {},
   "outputs": [
    {
     "data": {
      "text/plain": [
       "[('madgoat', 5),\n",
       " ('material', 4),\n",
       " ('goat', 2),\n",
       " ('skin', 2),\n",
       " ('many', 2),\n",
       " ('premium', 2),\n",
       " ('create', 2)]"
      ]
     },
     "execution_count": 58,
     "metadata": {},
     "output_type": "execute_result"
    }
   ],
   "source": [
    "# Counting word frequency\n",
    "MG_freq = Counter(MG_lemmas)\n",
    "MG_freq.most_common(7)"
   ]
  },
  {
   "cell_type": "code",
   "execution_count": null,
   "metadata": {},
   "outputs": [],
   "source": []
  },
  {
   "cell_type": "code",
   "execution_count": null,
   "metadata": {},
   "outputs": [],
   "source": []
  },
  {
   "cell_type": "markdown",
   "metadata": {},
   "source": [
    "## Avam: About Us"
   ]
  },
  {
   "cell_type": "code",
   "execution_count": 59,
   "metadata": {},
   "outputs": [
    {
     "name": "stdout",
     "output_type": "stream",
     "text": [
      "AVAM, AVAM APPARTEMENT is a fashion and lifestyle brand for women who enjoy morning and night, daily life and break away, common sense and imagination. AVAM, AVAM APPARTEMENT is directed by the stylist, Kyoung-won Choi, make the style motto of the imaginary girl’s morning to night, or the morning and night style. it is divided into the subjective and liberal fashion label ‘AVAM,’ and the living & lifestyle brand ‘AVAM APPARTMENT’ that is not bound by formalities. The fashion label ‘AVAM’, which has a motive in the sensual daylife style of style icon that live in contemporary suggests a style of subjective and liberal women. It presents garments and clothing goods of sensible day look and freewheeling night look that pursue practical design, good material, and simple silhouette. The AVAM APPARTMENT, which offers living - lifestyle, is inspired by the lifestyle of creators such as stylists, florists, and makeup artists. It suggests a variety of items in daily life that can be digested easily and sensibly by reinterpreting sense and styling sensation in the lives of the creators who live a busy and active life.\n"
     ]
    }
   ],
   "source": [
    "# Avam About Us Page\n",
    "AV_about = \"AVAM, AVAM APPARTEMENT is a fashion and lifestyle brand for women who enjoy morning and night, daily life and break away, common sense and imagination. AVAM, AVAM APPARTEMENT is directed by the stylist, Kyoung-won Choi, make the style motto of the imaginary girl’s morning to night, or the morning and night style. it is divided into the subjective and liberal fashion label ‘AVAM,’ and the living & lifestyle brand ‘AVAM APPARTMENT’ that is not bound by formalities. The fashion label ‘AVAM’, which has a motive in the sensual daylife style of style icon that live in contemporary suggests a style of subjective and liberal women. It presents garments and clothing goods of sensible day look and freewheeling night look that pursue practical design, good material, and simple silhouette. The AVAM APPARTMENT, which offers living - lifestyle, is inspired by the lifestyle of creators such as stylists, florists, and makeup artists. It suggests a variety of items in daily life that can be digested easily and sensibly by reinterpreting sense and styling sensation in the lives of the creators who live a busy and active life.\"\n",
    "print(AV_about)"
   ]
  },
  {
   "cell_type": "code",
   "execution_count": 60,
   "metadata": {},
   "outputs": [
    {
     "name": "stdout",
     "output_type": "stream",
     "text": [
      "avam, avam appartement is a fashion and lifestyle brand for women who enjoy morning and night, daily life and break away, common sense and imagination. avam, avam appartement is directed by the stylist, kyoung-won choi, make the style motto of the imaginary girl’s morning to night, or the morning and night style. it is divided into the subjective and liberal fashion label ‘avam,’ and the living & lifestyle brand ‘avam appartment’ that is not bound by formalities. the fashion label ‘avam’, which has a motive in the sensual daylife style of style icon that live in contemporary suggests a style of subjective and liberal women. it presents garments and clothing goods of sensible day look and freewheeling night look that pursue practical design, good material, and simple silhouette. the avam appartment, which offers living - lifestyle, is inspired by the lifestyle of creators such as stylists, florists, and makeup artists. it suggests a variety of items in daily life that can be digested easily and sensibly by reinterpreting sense and styling sensation in the lives of the creators who live a busy and active life.\n"
     ]
    }
   ],
   "source": [
    "# Changing to lower case\n",
    "AV_lower = AV_about.lower()\n",
    "print(AV_lower)"
   ]
  },
  {
   "cell_type": "code",
   "execution_count": 78,
   "metadata": {},
   "outputs": [
    {
     "name": "stdout",
     "output_type": "stream",
     "text": [
      "avam avam appartement is a fashion and lifestyle brand for women who enjoy morning and night daily life and break away common sense and imagination avam avam appartement is directed by the stylist kyoungwon choi make the style motto of the imaginary girls morning to night or the morning and night style it is divided into the subjective and liberal fashion label avam and the living  lifestyle brand avam appartment that is not bound by formalities the fashion label avam which has a motive in the sensual daylife style of style icon that live in contemporary suggests a style of subjective and liberal women it presents garments and clothing goods of sensible day look and freewheeling night look that pursue practical design good material and simple silhouette the avam appartment which offers living  lifestyle is inspired by the lifestyle of creators such as stylists florists and makeup artists it suggests a variety of items in daily life that can be digested easily and sensibly by reinterpreting sense and styling sensation in the lives of the creators who live a busy and active life\n"
     ]
    }
   ],
   "source": [
    "# Removing punctuation\n",
    "for char in punctuation: \n",
    "    AV_lower = AV_lower.replace(char, \"\")\n",
    "    AV_lower = AV_lower.replace(\"‘\",\"\")\n",
    "    AV_lower = AV_lower.replace(\"’\", \"\")\n",
    "print(AV_lower)"
   ]
  },
  {
   "cell_type": "code",
   "execution_count": 81,
   "metadata": {
    "scrolled": true
   },
   "outputs": [
    {
     "name": "stdout",
     "output_type": "stream",
     "text": [
      "['avam', 'avam', 'appartement', 'is', 'a', 'fashion', 'and', 'lifestyle', 'brand', 'for', 'women', 'who', 'enjoy', 'morning', 'and', 'night', 'daily', 'life', 'and', 'break', 'away', 'common', 'sense', 'and', 'imagination', 'avam', 'avam', 'appartement', 'is', 'directed', 'by', 'the', 'stylist', 'kyoungwon', 'choi', 'make', 'the', 'style', 'motto', 'of', 'the', 'imaginary', 'girls', 'morning', 'to', 'night', 'or', 'the', 'morning', 'and', 'night', 'style', 'it', 'is', 'divided', 'into', 'the', 'subjective', 'and', 'liberal', 'fashion', 'label', 'avam', 'and', 'the', 'living', 'lifestyle', 'brand', 'avam', 'appartment', 'that', 'is', 'not', 'bound', 'by', 'formalities', 'the', 'fashion', 'label', 'avam', 'which', 'has', 'a', 'motive', 'in', 'the', 'sensual', 'daylife', 'style', 'of', 'style', 'icon', 'that', 'live', 'in', 'contemporary', 'suggests', 'a', 'style', 'of', 'subjective', 'and', 'liberal', 'women', 'it', 'presents', 'garments', 'and', 'clothing', 'goods', 'of', 'sensible', 'day', 'look', 'and', 'freewheeling', 'night', 'look', 'that', 'pursue', 'practical', 'design', 'good', 'material', 'and', 'simple', 'silhouette', 'the', 'avam', 'appartment', 'which', 'offers', 'living', 'lifestyle', 'is', 'inspired', 'by', 'the', 'lifestyle', 'of', 'creators', 'such', 'as', 'stylists', 'florists', 'and', 'makeup', 'artists', 'it', 'suggests', 'a', 'variety', 'of', 'items', 'in', 'daily', 'life', 'that', 'can', 'be', 'digested', 'easily', 'and', 'sensibly', 'by', 'reinterpreting', 'sense', 'and', 'styling', 'sensation', 'in', 'the', 'lives', 'of', 'the', 'creators', 'who', 'live', 'a', 'busy', 'and', 'active', 'life']\n"
     ]
    }
   ],
   "source": [
    "# Tokenizing\n",
    "AV_tokens = word_tokenize(AV_lower)\n",
    "print(AV_tokens)"
   ]
  },
  {
   "cell_type": "code",
   "execution_count": 82,
   "metadata": {},
   "outputs": [],
   "source": [
    "# Removing Stopwords\n",
    "AV_stop = stopwords.words(\"english\")"
   ]
  },
  {
   "cell_type": "code",
   "execution_count": 83,
   "metadata": {
    "scrolled": true
   },
   "outputs": [
    {
     "name": "stdout",
     "output_type": "stream",
     "text": [
      "['avam', 'avam', 'appartement', 'fashion', 'lifestyle', 'brand', 'women', 'enjoy', 'morning', 'night', 'daily', 'life', 'break', 'away', 'common', 'sense', 'imagination', 'avam', 'avam', 'appartement', 'directed', 'stylist', 'kyoungwon', 'choi', 'make', 'style', 'motto', 'imaginary', 'girls', 'morning', 'night', 'morning', 'night', 'style', 'divided', 'subjective', 'liberal', 'fashion', 'label', 'avam', 'living', 'lifestyle', 'brand', 'avam', 'appartment', 'bound', 'formalities', 'fashion', 'label', 'avam', 'motive', 'sensual', 'daylife', 'style', 'style', 'icon', 'live', 'contemporary', 'suggests', 'style', 'subjective', 'liberal', 'women', 'presents', 'garments', 'clothing', 'goods', 'sensible', 'day', 'look', 'freewheeling', 'night', 'look', 'pursue', 'practical', 'design', 'good', 'material', 'simple', 'silhouette', 'avam', 'appartment', 'offers', 'living', 'lifestyle', 'inspired', 'lifestyle', 'creators', 'stylists', 'florists', 'makeup', 'artists', 'suggests', 'variety', 'items', 'daily', 'life', 'digested', 'easily', 'sensibly', 'reinterpreting', 'sense', 'styling', 'sensation', 'lives', 'creators', 'live', 'busy', 'active', 'life']\n"
     ]
    }
   ],
   "source": [
    "AV_stop = [word for word in AV_tokens if word not in stopwords.words(\"english\")]\n",
    "print(AV_stop)"
   ]
  },
  {
   "cell_type": "code",
   "execution_count": 84,
   "metadata": {},
   "outputs": [
    {
     "name": "stdout",
     "output_type": "stream",
     "text": [
      "['avam', 'avam', 'appartement', 'fashion', 'lifestyle', 'brand', 'woman', 'enjoy', 'morning', 'night', 'daily', 'life', 'break', 'away', 'common', 'sense', 'imagination', 'avam', 'avam', 'appartement', 'direct', 'stylist', 'kyoungwon', 'choi', 'make', 'style', 'motto', 'imaginary', 'girl', 'morning', 'night', 'morning', 'night', 'style', 'divide', 'subjective', 'liberal', 'fashion', 'label', 'avam', 'live', 'lifestyle', 'brand', 'avam', 'appartment', 'bind', 'formality', 'fashion', 'label', 'avam', 'motive', 'sensual', 'daylife', 'style', 'style', 'icon', 'live', 'contemporary', 'suggest', 'style', 'subjective', 'liberal', 'woman', 'present', 'garment', 'clothing', 'good', 'sensible', 'day', 'look', 'freewheeling', 'night', 'look', 'pursue', 'practical', 'design', 'good', 'material', 'simple', 'silhouette', 'avam', 'appartment', 'offer', 'live', 'lifestyle', 'inspire', 'lifestyle', 'creator', 'stylist', 'florist', 'makeup', 'artist', 'suggest', 'variety', 'item', 'daily', 'life', 'digest', 'easily', 'sensibly', 'reinterpret', 'sense', 'styling', 'sensation', 'live', 'creator', 'live', 'busy', 'active', 'life']\n"
     ]
    }
   ],
   "source": [
    "#Lemmatizing\n",
    "nlp = spacy.load(\"en_core_web_lg\")\n",
    "def lemmatize(AV_stop): \n",
    "    AV_words = \" \".join(AV_stop)\n",
    "    AV_doc = nlp(AV_words)\n",
    "    return [AV_stop.lemma_ for AV_stop in AV_doc]\n",
    "AV_lemmas = lemmatize(AV_stop)\n",
    "print(AV_lemmas)"
   ]
  },
  {
   "cell_type": "code",
   "execution_count": null,
   "metadata": {},
   "outputs": [],
   "source": []
  },
  {
   "cell_type": "code",
   "execution_count": null,
   "metadata": {},
   "outputs": [],
   "source": []
  },
  {
   "cell_type": "markdown",
   "metadata": {},
   "source": [
    "# Social Media Advertisement Analysis"
   ]
  },
  {
   "cell_type": "code",
   "execution_count": 107,
   "metadata": {
    "scrolled": true
   },
   "outputs": [
    {
     "data": {
      "text/html": [
       "<div>\n",
       "<style scoped>\n",
       "    .dataframe tbody tr th:only-of-type {\n",
       "        vertical-align: middle;\n",
       "    }\n",
       "\n",
       "    .dataframe tbody tr th {\n",
       "        vertical-align: top;\n",
       "    }\n",
       "\n",
       "    .dataframe thead th {\n",
       "        text-align: right;\n",
       "    }\n",
       "</style>\n",
       "<table border=\"1\" class=\"dataframe\">\n",
       "  <thead>\n",
       "    <tr style=\"text-align: right;\">\n",
       "      <th></th>\n",
       "      <th>Date</th>\n",
       "      <th>Original Content</th>\n",
       "      <th>Translation</th>\n",
       "    </tr>\n",
       "  </thead>\n",
       "  <tbody>\n",
       "    <tr>\n",
       "      <th>0</th>\n",
       "      <td>4/15/2019</td>\n",
       "      <td>하나만 고르기 어려운 12가지 매력적인 컬러 &lt;아뮤즈백&gt;\\n신규 컬렉션 'EDEN'...</td>\n",
       "      <td>12 attractive colors that are hard to choose f...</td>\n",
       "    </tr>\n",
       "    <tr>\n",
       "      <th>1</th>\n",
       "      <td>4/15/2019</td>\n",
       "      <td>은근하게 눈길을 끄는 감각적인 컬러 &lt;아뮤즈백&gt;\\nEDEN; Eve and Haww...</td>\n",
       "      <td>a subtle eye-catching color &lt;Amuseback&gt;\\nEDEN;...</td>\n",
       "    </tr>\n",
       "    <tr>\n",
       "      <th>2</th>\n",
       "      <td>4/15/2019</td>\n",
       "      <td>EDEN; Eve and Hawwah\\n몽환적인 자연의 온도를 그대로 옮겨담은 &lt;아...</td>\n",
       "      <td>EDEN; Eve and Hawwah\\n&lt;Amuseback&gt; that moves t...</td>\n",
       "    </tr>\n",
       "    <tr>\n",
       "      <th>3</th>\n",
       "      <td>4/15/2019</td>\n",
       "      <td>EDEN; Eve and Hawwah\\n뮤트뮤즈의 새로운 컬렉션 &lt;에덴&gt;은 \\n아담...</td>\n",
       "      <td>EDEN; Eve and Hawwah\\nThe new Mutmuse collecti...</td>\n",
       "    </tr>\n",
       "    <tr>\n",
       "      <th>4</th>\n",
       "      <td>4/15/2019</td>\n",
       "      <td>EDEN; Eve and Hawwah\\n“태초에 이브와 하와가 있었다.”\\n비현실적...</td>\n",
       "      <td>EDEN; Eve and Hawwah\\nIn the beginning there w...</td>\n",
       "    </tr>\n",
       "  </tbody>\n",
       "</table>\n",
       "</div>"
      ],
      "text/plain": [
       "        Date                                   Original Content  \\\n",
       "0  4/15/2019  하나만 고르기 어려운 12가지 매력적인 컬러 <아뮤즈백>\\n신규 컬렉션 'EDEN'...   \n",
       "1  4/15/2019  은근하게 눈길을 끄는 감각적인 컬러 <아뮤즈백>\\nEDEN; Eve and Haww...   \n",
       "2  4/15/2019  EDEN; Eve and Hawwah\\n몽환적인 자연의 온도를 그대로 옮겨담은 <아...   \n",
       "3  4/15/2019  EDEN; Eve and Hawwah\\n뮤트뮤즈의 새로운 컬렉션 <에덴>은 \\n아담...   \n",
       "4  4/15/2019  EDEN; Eve and Hawwah\\n“태초에 이브와 하와가 있었다.”\\n비현실적...   \n",
       "\n",
       "                                         Translation  \n",
       "0  12 attractive colors that are hard to choose f...  \n",
       "1  a subtle eye-catching color <Amuseback>\\nEDEN;...  \n",
       "2  EDEN; Eve and Hawwah\\n<Amuseback> that moves t...  \n",
       "3  EDEN; Eve and Hawwah\\nThe new Mutmuse collecti...  \n",
       "4  EDEN; Eve and Hawwah\\nIn the beginning there w...  "
      ]
     },
     "execution_count": 107,
     "metadata": {},
     "output_type": "execute_result"
    }
   ],
   "source": [
    "# Mutemuse Facebook Advertisement Data Import\n",
    "MM_fb = pd.read_csv(\"/Users/s2park2018/Desktop/DH101-Project/Leather Bag Facebook Advertisement - Mutemuse.csv\", sep = \",\")\n",
    "MM_fb.head()"
   ]
  },
  {
   "cell_type": "code",
   "execution_count": null,
   "metadata": {},
   "outputs": [],
   "source": []
  },
  {
   "cell_type": "code",
   "execution_count": 108,
   "metadata": {},
   "outputs": [
    {
     "data": {
      "text/html": [
       "<div>\n",
       "<style scoped>\n",
       "    .dataframe tbody tr th:only-of-type {\n",
       "        vertical-align: middle;\n",
       "    }\n",
       "\n",
       "    .dataframe tbody tr th {\n",
       "        vertical-align: top;\n",
       "    }\n",
       "\n",
       "    .dataframe thead th {\n",
       "        text-align: right;\n",
       "    }\n",
       "</style>\n",
       "<table border=\"1\" class=\"dataframe\">\n",
       "  <thead>\n",
       "    <tr style=\"text-align: right;\">\n",
       "      <th></th>\n",
       "      <th>Date</th>\n",
       "      <th>Original Content</th>\n",
       "      <th>Translation</th>\n",
       "    </tr>\n",
       "  </thead>\n",
       "  <tbody>\n",
       "    <tr>\n",
       "      <th>0</th>\n",
       "      <td>6/12/2019</td>\n",
       "      <td>[Dual Top Canvas Tote Bag]\\n\\n고트스킨&amp;캔버스 소재 남성 토...</td>\n",
       "      <td>[Dual Top Canvas Tote Bag]\\n\\nGoatskin &amp; Canva...</td>\n",
       "    </tr>\n",
       "    <tr>\n",
       "      <th>1</th>\n",
       "      <td>6/9/2019</td>\n",
       "      <td>\\n[Dual Top Canvas Tote Bag]\\n\\n고트스킨&amp;캔버스 소재 남성...</td>\n",
       "      <td>[Dual Top Canvas Tote Bag]\\n\\nGoatskin &amp; Canva...</td>\n",
       "    </tr>\n",
       "    <tr>\n",
       "      <th>2</th>\n",
       "      <td>6/6/2019</td>\n",
       "      <td>\\n[Dual Top Canvas Tote Bag]\\n\\n고트스킨&amp;캔버스 소재 남성...</td>\n",
       "      <td>[Dual Top Canvas Tote Bag]\\n\\nGoatskin &amp; Canva...</td>\n",
       "    </tr>\n",
       "    <tr>\n",
       "      <th>3</th>\n",
       "      <td>6/6/2019</td>\n",
       "      <td>\\n[Dual Top Canvas Tote Bag]\\n\\n고트스킨&amp;캔버스 소재 남성...</td>\n",
       "      <td>[Dual Top Canvas Tote Bag]\\n\\nGoatskin &amp; Canva...</td>\n",
       "    </tr>\n",
       "    <tr>\n",
       "      <th>4</th>\n",
       "      <td>6/4/2019</td>\n",
       "      <td>[Herringbone Canvas Shopper Bag]\\n\\n일상이 여행이 되는...</td>\n",
       "      <td>[Herringbone Canvas Shopper Bag]\\n\\n#Picnic ba...</td>\n",
       "    </tr>\n",
       "  </tbody>\n",
       "</table>\n",
       "</div>"
      ],
      "text/plain": [
       "        Date                                   Original Content  \\\n",
       "0  6/12/2019  [Dual Top Canvas Tote Bag]\\n\\n고트스킨&캔버스 소재 남성 토...   \n",
       "1   6/9/2019  \\n[Dual Top Canvas Tote Bag]\\n\\n고트스킨&캔버스 소재 남성...   \n",
       "2   6/6/2019  \\n[Dual Top Canvas Tote Bag]\\n\\n고트스킨&캔버스 소재 남성...   \n",
       "3   6/6/2019  \\n[Dual Top Canvas Tote Bag]\\n\\n고트스킨&캔버스 소재 남성...   \n",
       "4   6/4/2019  [Herringbone Canvas Shopper Bag]\\n\\n일상이 여행이 되는...   \n",
       "\n",
       "                                         Translation  \n",
       "0  [Dual Top Canvas Tote Bag]\\n\\nGoatskin & Canva...  \n",
       "1  [Dual Top Canvas Tote Bag]\\n\\nGoatskin & Canva...  \n",
       "2  [Dual Top Canvas Tote Bag]\\n\\nGoatskin & Canva...  \n",
       "3  [Dual Top Canvas Tote Bag]\\n\\nGoatskin & Canva...  \n",
       "4  [Herringbone Canvas Shopper Bag]\\n\\n#Picnic ba...  "
      ]
     },
     "execution_count": 108,
     "metadata": {},
     "output_type": "execute_result"
    }
   ],
   "source": [
    "# Mad Goat Facebook Advertisement Data Import\n",
    "MG_fb = pd.read_csv(\"/Users/s2park2018/Desktop/DH101-Project/Leather Bag Facebook Advertisement - Mad Goat.csv\", sep = \",\")\n",
    "MG_fb.head()"
   ]
  },
  {
   "cell_type": "code",
   "execution_count": null,
   "metadata": {},
   "outputs": [],
   "source": []
  },
  {
   "cell_type": "code",
   "execution_count": null,
   "metadata": {},
   "outputs": [],
   "source": []
  },
  {
   "cell_type": "code",
   "execution_count": null,
   "metadata": {},
   "outputs": [],
   "source": []
  },
  {
   "cell_type": "code",
   "execution_count": null,
   "metadata": {},
   "outputs": [],
   "source": []
  }
 ],
 "metadata": {
  "kernelspec": {
   "display_name": "Python 3",
   "language": "python",
   "name": "python3"
  },
  "language_info": {
   "codemirror_mode": {
    "name": "ipython",
    "version": 3
   },
   "file_extension": ".py",
   "mimetype": "text/x-python",
   "name": "python",
   "nbconvert_exporter": "python",
   "pygments_lexer": "ipython3",
   "version": "3.7.3"
  }
 },
 "nbformat": 4,
 "nbformat_minor": 2
}
